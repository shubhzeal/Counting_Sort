{
  "nbformat": 4,
  "nbformat_minor": 0,
  "metadata": {
    "colab": {
      "name": "Task_VectorEdge_CountingSort.ipynb",
      "provenance": []
    },
    "kernelspec": {
      "name": "python3",
      "display_name": "Python 3"
    },
    "language_info": {
      "name": "python"
    }
  },
  "cells": [
    {
      "cell_type": "code",
      "metadata": {
        "id": "5Tt5vomU2JKX"
      },
      "source": [
        "def countingSort(array):\n",
        "    size = len(array)\n",
        "    output = [0] * size\n",
        "\n",
        "    # Initialize count array\n",
        "    count = [0] * 21\n",
        "    # 21 because input range is 20 'max+1'\n",
        "    # if higher input range use 'input range + 1' in place of 21\n",
        "    # if input range not known, evaluate by using max method\n",
        "\n",
        "    # Store the count of each elements in count array\n",
        "    for i in range(0, size):\n",
        "        count[array[i]] += 1\n",
        "\n",
        "    # Store the cummulative count\n",
        "    for i in range(1, 21):\n",
        "        count[i] += count[i - 1]\n",
        "\n",
        "    # Find the index of each element of the original array in count array\n",
        "    # place the elements in output array\n",
        "    i = size - 1\n",
        "    while i >= 0:\n",
        "        output[count[array[i]] - 1] = array[i]\n",
        "        count[array[i]] -= 1\n",
        "        i -= 1\n",
        "\n",
        "    # Copy the sorted elements into original array\n",
        "    for i in range(0, size):\n",
        "        array[i] = output[i]\n",
        "\n",
        "\n",
        "data = [1, 20, 18, 19, 4, 3, 2, 19, 10,11,14,13,12,6,17,18,19,20,1,8,9,1,4,7,8]\n",
        "# size can be changed as per the requirements but the elements in the array should not be > 20.\n",
        "countingSort(data)\n",
        "print(\"Sorted Array in Ascending Order: \")\n",
        "print(data)\n",
        "#Time Complexity: O(n+k) where n is the number of elements in input array and k is the range of input implying O(n)\n",
        "#Auxiliary Space: O(n+k) i.e., O(n)\n",
        "#Thanks"
      ],
      "execution_count": null,
      "outputs": []
    }
  ]
}
